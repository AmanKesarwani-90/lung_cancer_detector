{
  "metadata": {
    "kernelspec": {
      "language": "python",
      "display_name": "Python 3",
      "name": "python3"
    },
    "language_info": {
      "name": "python",
      "version": "3.10.13",
      "mimetype": "text/x-python",
      "codemirror_mode": {
        "name": "ipython",
        "version": 3
      },
      "pygments_lexer": "ipython3",
      "nbconvert_exporter": "python",
      "file_extension": ".py"
    },
    "kaggle": {
      "accelerator": "nvidiaTeslaT4",
      "dataSources": [
        {
          "sourceId": 1079953,
          "sourceType": "datasetVersion",
          "datasetId": 601280
        }
      ],
      "dockerImageVersionId": 30648,
      "isInternetEnabled": true,
      "language": "python",
      "sourceType": "notebook",
      "isGpuEnabled": true
    },
    "colab": {
      "provenance": [],
      "include_colab_link": true
    }
  },
  "nbformat_minor": 0,
  "nbformat": 4,
  "cells": [
    {
      "cell_type": "markdown",
      "metadata": {
        "id": "view-in-github",
        "colab_type": "text"
      },
      "source": [
        "<a href=\"https://colab.research.google.com/github/AmanKesarwani-90/lung_cancer_detector/blob/main/Copy_of_Lung_Colon_Cancer_(CNN)ACC_98_.ipynb\" target=\"_parent\"><img src=\"https://colab.research.google.com/assets/colab-badge.svg\" alt=\"Open In Colab\"/></a>"
      ]
    },
    {
      "source": [
        "# IMPORTANT: RUN THIS CELL IN ORDER TO IMPORT YOUR KAGGLE DATA SOURCES,\n",
        "# THEN FEEL FREE TO DELETE THIS CELL.\n",
        "# NOTE: THIS NOTEBOOK ENVIRONMENT DIFFERS FROM KAGGLE'S PYTHON\n",
        "# ENVIRONMENT SO THERE MAY BE MISSING LIBRARIES USED BY YOUR\n",
        "# NOTEBOOK.\n",
        "import kagglehub\n",
        "andrewmvd_lung_and_colon_cancer_histopathological_images_path = kagglehub.dataset_download('andrewmvd/lung-and-colon-cancer-histopathological-images')\n",
        "\n",
        "print('Data source import complete.')\n"
      ],
      "metadata": {
        "id": "L9149hiCj9hS"
      },
      "cell_type": "code",
      "outputs": [],
      "execution_count": null
    },
    {
      "cell_type": "markdown",
      "source": [
        "# About Data"
      ],
      "metadata": {
        "id": "rdEMsoYPj9hY"
      }
    },
    {
      "cell_type": "markdown",
      "source": [
        "This dataset contains 25,000 histopathological images with 5 classes. All images are 768 x 768 pixels in size and are in jpeg file format.\n",
        "The images were generated from an original sample of HIPAA compliant and validated sources, consisting of 750 total images of lung tissue (250 benign lung tissue, 250 lung adenocarcinomas, and 250 lung squamous cell carcinomas) and 500 total images of colon tissue (250 benign colon tissue and 250 colon adenocarcinomas) and augmented to 25,000 using the Augmentor package.\n",
        "There are five classes in the dataset, each with 5,000 images, being:\n",
        "\n",
        "Lung benign tissue\n",
        "Lung adenocarcinoma\n",
        "Lung squamous cell carcinoma\n",
        "Colon adenocarcinoma\n",
        "Colon benign tissue"
      ],
      "metadata": {
        "id": "Q6g6Pfwjj9ha"
      }
    },
    {
      "cell_type": "code",
      "source": [
        "# data processing, CSV & image file I/O\n",
        "import os\n",
        "import re\n",
        "import requests\n",
        "from PIL import Image\n",
        "import pandas as pd\n",
        "import numpy as np\n",
        "\n",
        "#libraries for data visualization\n",
        "import seaborn as sns\n",
        "import matplotlib.pyplot as plt\n",
        "import plotly.express as px\n",
        "import plotly.graph_objects as go\n",
        "from plotly.subplots import make_subplots\n",
        "# import Deep learning Libraries\n",
        "#preprocessing, modeling & Evaluation\n",
        "from sklearn.model_selection import train_test_split\n",
        "from sklearn.metrics import classification_report,confusion_matrix\n",
        "import tensorflow as tf\n",
        "from tensorflow.keras import layers\n",
        "from tensorflow.keras.layers import Conv2D, BatchNormalization, MaxPool2D, Dropout, Flatten, Dense\n",
        "from tensorflow.keras.callbacks import EarlyStopping, ModelCheckpoint, ReduceLROnPlateau\n",
        "from tensorflow.keras.preprocessing import image\n",
        "from tensorflow import keras\n",
        "from tensorflow.keras.applications import ResNet50\n",
        "from tensorflow.keras.models import Model\n",
        "from tensorflow.keras.preprocessing.image import ImageDataGenerator\n",
        "from tensorflow.keras.callbacks import EarlyStopping, ReduceLROnPlateau\n",
        "from tensorflow.keras.models import Sequential\n",
        "from tensorflow.keras.optimizers import Adam, Adamax\n",
        "from tensorflow.keras import regularizers\n",
        "import warnings\n",
        "warnings.filterwarnings('ignore')"
      ],
      "metadata": {
        "execution": {
          "iopub.status.busy": "2024-12-14T11:58:17.640967Z",
          "iopub.execute_input": "2024-12-14T11:58:17.641374Z",
          "iopub.status.idle": "2024-12-14T11:58:17.648601Z",
          "shell.execute_reply.started": "2024-12-14T11:58:17.641344Z",
          "shell.execute_reply": "2024-12-14T11:58:17.647661Z"
        },
        "trusted": true,
        "id": "rIqB1xilj9hb"
      },
      "outputs": [],
      "execution_count": null
    },
    {
      "cell_type": "markdown",
      "source": [
        "# Data Preprocessing"
      ],
      "metadata": {
        "id": "7KAZW98tj9hc"
      }
    },
    {
      "cell_type": "markdown",
      "source": [
        "**Read data and store it in dataframe**"
      ],
      "metadata": {
        "id": "2M9w2fCsj9hc"
      }
    },
    {
      "cell_type": "code",
      "source": [
        "# Generate data paths with labels\n",
        "data_dir = '/kaggle/input/lung-and-colon-cancer-histopathological-images/lung_colon_image_set'\n",
        "filepaths = []\n",
        "labels = []\n",
        "\n",
        "folds = os.listdir(data_dir)\n",
        "for fold in folds:\n",
        "    foldpath = os.path.join(data_dir, fold)\n",
        "    flist = os.listdir(foldpath)\n",
        "\n",
        "    for f in flist:\n",
        "        f_path = os.path.join(foldpath, f)\n",
        "        filelist = os.listdir(f_path)\n",
        "\n",
        "        for file in filelist:\n",
        "            fpath = os.path.join(f_path, file)\n",
        "            filepaths.append(fpath)\n",
        "\n",
        "            if f == 'colon_aca':\n",
        "                labels.append('Colon Adenocarcinoma')\n",
        "\n",
        "            elif f == 'colon_n':\n",
        "                labels.append('Colon Benign Tissue')\n",
        "\n",
        "            elif f == 'lung_aca':\n",
        "                labels.append('Lung Adenocarcinoma')\n",
        "\n",
        "            elif f == 'lung_n':\n",
        "                labels.append('Lung Benign Tissue')\n",
        "\n",
        "            elif f == 'lung_scc':\n",
        "                labels.append('Lung Squamous Cell Carcinoma')\n",
        "\n",
        "# Concatenate data paths with labels into one dataframe\n",
        "Fseries = pd.Series(filepaths, name= 'filepaths')\n",
        "Lseries = pd.Series(labels, name='labels')\n",
        "df = pd.concat([Fseries, Lseries], axis= 1)"
      ],
      "metadata": {
        "execution": {
          "iopub.status.busy": "2024-12-14T11:58:17.650831Z",
          "iopub.execute_input": "2024-12-14T11:58:17.651065Z",
          "iopub.status.idle": "2024-12-14T11:58:17.719918Z",
          "shell.execute_reply.started": "2024-12-14T11:58:17.651046Z",
          "shell.execute_reply": "2024-12-14T11:58:17.719321Z"
        },
        "trusted": true,
        "id": "Ctn2gZJIj9hd"
      },
      "outputs": [],
      "execution_count": null
    },
    {
      "cell_type": "markdown",
      "source": [
        "**Split data into train, valid, and test**"
      ],
      "metadata": {
        "id": "_F6OC594j9he"
      }
    },
    {
      "cell_type": "code",
      "source": [
        "\n",
        "strat = df['labels']\n",
        "train_df, dummy_df = train_test_split(df,  train_size= 0.8, shuffle= True, random_state= 123, stratify= strat)\n",
        "\n",
        "# valid and test dataframe\n",
        "strat = dummy_df['labels']\n",
        "valid_df, test_df = train_test_split(dummy_df,  train_size= 0.5, shuffle= True, random_state= 123, stratify= strat)"
      ],
      "metadata": {
        "execution": {
          "iopub.status.busy": "2024-12-14T11:58:17.721441Z",
          "iopub.execute_input": "2024-12-14T11:58:17.722027Z",
          "iopub.status.idle": "2024-12-14T11:58:17.749641Z",
          "shell.execute_reply.started": "2024-12-14T11:58:17.721998Z",
          "shell.execute_reply": "2024-12-14T11:58:17.749013Z"
        },
        "trusted": true,
        "id": "s_x8luqVj9hf"
      },
      "outputs": [],
      "execution_count": null
    },
    {
      "cell_type": "code",
      "source": [
        "# crobed image size\n",
        "batch_size =64\n",
        "img_size = (224, 224)\n",
        "channels = 3\n",
        "img_shape = (img_size[0], img_size[1], channels)\n",
        "\n",
        "tr_gen = ImageDataGenerator()\n",
        "ts_gen = ImageDataGenerator()\n",
        "val_gen= ImageDataGenerator()\n",
        "\n",
        "train_gen = tr_gen.flow_from_dataframe( train_df, x_col= 'filepaths', y_col= 'labels', target_size= img_size, class_mode= 'categorical',\n",
        "                                    color_mode= 'rgb', shuffle= True, batch_size= batch_size)\n",
        "\n",
        "valid_gen = val_gen.flow_from_dataframe( valid_df, x_col= 'filepaths', y_col= 'labels', target_size= img_size, class_mode= 'categorical',\n",
        "                                    color_mode= 'rgb', shuffle= True, batch_size= batch_size)\n",
        "\n",
        "test_gen = ts_gen.flow_from_dataframe( test_df, x_col= 'filepaths', y_col= 'labels', target_size= img_size, class_mode= 'categorical',\n",
        "                                    color_mode= 'rgb', shuffle= False, batch_size= batch_size)"
      ],
      "metadata": {
        "execution": {
          "iopub.status.busy": "2024-12-14T11:58:17.750402Z",
          "iopub.execute_input": "2024-12-14T11:58:17.750604Z",
          "iopub.status.idle": "2024-12-14T11:58:55.139087Z",
          "shell.execute_reply.started": "2024-12-14T11:58:17.750588Z",
          "shell.execute_reply": "2024-12-14T11:58:55.138088Z"
        },
        "trusted": true,
        "id": "eUbjti6Uj9hg"
      },
      "outputs": [],
      "execution_count": null
    },
    {
      "cell_type": "markdown",
      "source": [
        "# Show sample from train data"
      ],
      "metadata": {
        "id": "1JSAOgA1j9hg"
      }
    },
    {
      "cell_type": "code",
      "source": [
        "g_dict = train_gen.class_indices      # defines dictionary {'class': index}\n",
        "classes = list(g_dict.keys())       # defines list of dictionary's kays (classes), classes names : string\n",
        "images, labels = next(train_gen)      # get a batch size samples from the generator\n",
        "\n",
        "plt.figure(figsize= (20, 20))\n",
        "\n",
        "for i in range(16):\n",
        "    plt.subplot(4, 4, i + 1)\n",
        "    image = images[i] / 255       # scales data to range (0 - 255)\n",
        "    plt.imshow(image)\n",
        "    index = np.argmax(labels[i])  # get image index\n",
        "    class_name = classes[index]   # get class of image\n",
        "    plt.title(class_name, color= 'blue', fontsize= 12)\n",
        "    plt.axis('off')\n",
        "plt.show()"
      ],
      "metadata": {
        "execution": {
          "iopub.status.busy": "2024-12-14T11:58:55.141447Z",
          "iopub.execute_input": "2024-12-14T11:58:55.142034Z",
          "iopub.status.idle": "2024-12-14T11:58:58.461137Z",
          "shell.execute_reply.started": "2024-12-14T11:58:55.141992Z",
          "shell.execute_reply": "2024-12-14T11:58:58.459823Z"
        },
        "trusted": true,
        "id": "jx5XZ4x3j9hh"
      },
      "outputs": [],
      "execution_count": null
    },
    {
      "cell_type": "markdown",
      "source": [
        "# Model Structure"
      ],
      "metadata": {
        "id": "UlEhOToWj9hh"
      }
    },
    {
      "cell_type": "markdown",
      "source": [
        "**Generic Model Creation**"
      ],
      "metadata": {
        "id": "rDW_a2OVj9hh"
      }
    },
    {
      "cell_type": "code",
      "source": [
        "from tensorflow.keras.layers import Conv2D, MaxPooling2D, Flatten, Dense, Activation, Dropout, BatchNormalization\n",
        "from tensorflow.keras.optimizers import Nadam\n",
        "\n",
        "# Create Model Structure\n",
        "img_size = (224, 224)\n",
        "channels = 3\n",
        "img_shape = (img_size[0], img_size[1], channels)\n",
        "class_count = len(list(train_gen.class_indices.keys()))\n",
        "\n",
        "model = Sequential([\n",
        "    Conv2D(filters=64, kernel_size=(3,3), padding=\"same\", activation=\"relu\", input_shape= img_shape),\n",
        "    Conv2D(filters=64, kernel_size=(3,3), padding=\"same\", activation=\"relu\"),\n",
        "    MaxPooling2D((2, 2)),\n",
        "\n",
        "    Conv2D(filters=128, kernel_size=(3,3), padding=\"same\", activation=\"relu\"),\n",
        "    Conv2D(filters=128, kernel_size=(3,3), padding=\"same\", activation=\"relu\"),\n",
        "    MaxPooling2D((2, 2)),\n",
        "\n",
        "    Conv2D(filters=256, kernel_size=(3,3), padding=\"same\", activation=\"relu\"),\n",
        "    Conv2D(filters=256, kernel_size=(3,3), padding=\"same\", activation=\"relu\"),\n",
        "    Conv2D(filters=256, kernel_size=(3,3), padding=\"same\", activation=\"relu\"),\n",
        "    MaxPooling2D((2, 2)),\n",
        "\n",
        "    Conv2D(filters=512, kernel_size=(3,3), padding=\"same\", activation=\"relu\"),\n",
        "    Conv2D(filters=512, kernel_size=(3,3), padding=\"same\", activation=\"relu\"),\n",
        "    Conv2D(filters=512, kernel_size=(3,3), padding=\"same\", activation=\"relu\"),\n",
        "    MaxPooling2D((2, 2)),\n",
        "\n",
        "    Conv2D(filters=512, kernel_size=(3,3), padding=\"same\", activation=\"relu\"),\n",
        "    Conv2D(filters=512, kernel_size=(3,3), padding=\"same\", activation=\"relu\"),\n",
        "    Conv2D(filters=512, kernel_size=(3,3), padding=\"same\", activation=\"relu\"),\n",
        "    MaxPooling2D((2, 2)),\n",
        "\n",
        "    Flatten(),\n",
        "    Dense(256,activation = \"relu\"),\n",
        "    Dense(64,activation = \"relu\"),\n",
        "    Dense(class_count, activation = \"softmax\")\n",
        "])\n",
        "\n",
        "model.compile(optimizer=Nadam(learning_rate=0.0001), loss='binary_crossentropy', metrics=['accuracy'])\n",
        "base_model = ResNet50(weights='imagenet', include_top=False, input_shape=(224, 224, 3))\n",
        "\n",
        "x = Flatten()(base_model.output)\n",
        "x = Dense(128, activation='relu')(x)\n",
        "output = Dense(1, activation='sigmoid')(x)\n",
        "\n",
        "resnet_model = Model(inputs=base_model.input, outputs=output)\n",
        "\n",
        "# Freeze base_model layers\n",
        "for layer in base_model.layers:\n",
        "    layer.trainable = False"
      ],
      "metadata": {
        "execution": {
          "iopub.status.busy": "2024-12-14T13:25:50.076144Z",
          "iopub.execute_input": "2024-12-14T13:25:50.076862Z",
          "iopub.status.idle": "2024-12-14T13:25:51.736964Z",
          "shell.execute_reply.started": "2024-12-14T13:25:50.07683Z",
          "shell.execute_reply": "2024-12-14T13:25:51.735975Z"
        },
        "trusted": true,
        "id": "JShrVI9yj9hh"
      },
      "outputs": [],
      "execution_count": null
    },
    {
      "cell_type": "code",
      "source": [
        "model.summary()"
      ],
      "metadata": {
        "execution": {
          "iopub.status.busy": "2024-12-14T13:26:01.414582Z",
          "iopub.execute_input": "2024-12-14T13:26:01.415405Z",
          "iopub.status.idle": "2024-12-14T13:26:01.46277Z",
          "shell.execute_reply.started": "2024-12-14T13:26:01.415374Z",
          "shell.execute_reply": "2024-12-14T13:26:01.461975Z"
        },
        "trusted": true,
        "id": "Lqawa1bAj9hi"
      },
      "outputs": [],
      "execution_count": null
    },
    {
      "cell_type": "code",
      "source": [
        "epochs = 12   # number of all epochs in training\n",
        "\n",
        "history = model.fit(x= train_gen, epochs= epochs, verbose= 1, validation_data= test_gen,\n",
        "                    validation_steps= None, shuffle= False)"
      ],
      "metadata": {
        "execution": {
          "iopub.status.busy": "2024-12-14T13:26:07.387222Z",
          "iopub.execute_input": "2024-12-14T13:26:07.387585Z",
          "iopub.status.idle": "2024-12-14T14:29:03.593515Z",
          "shell.execute_reply.started": "2024-12-14T13:26:07.38756Z",
          "shell.execute_reply": "2024-12-14T14:29:03.592704Z"
        },
        "trusted": true,
        "id": "0-ypSPQ6j9hi"
      },
      "outputs": [],
      "execution_count": null
    },
    {
      "cell_type": "markdown",
      "source": [
        "**Display model performance**"
      ],
      "metadata": {
        "id": "LRbPWFIaj9hi"
      }
    },
    {
      "cell_type": "code",
      "source": [
        "# Define needed variables\n",
        "tr_acc = history.history['accuracy']\n",
        "tr_loss = history.history['loss']\n",
        "val_acc = history.history['val_accuracy']\n",
        "val_loss = history.history['val_loss']\n",
        "index_loss = np.argmin(val_loss)\n",
        "val_lowest = val_loss[index_loss]\n",
        "index_acc = np.argmax(val_acc)\n",
        "acc_highest = val_acc[index_acc]\n",
        "Epochs = [i+1 for i in range(len(tr_acc))]\n",
        "loss_label = f'best epoch= {str(index_loss + 1)}'\n",
        "acc_label = f'best epoch= {str(index_acc + 1)}'\n",
        "\n",
        "# Plot training history\n",
        "plt.figure(figsize= (20, 8))\n",
        "plt.style.use('fivethirtyeight')\n",
        "\n",
        "plt.subplot(1, 2, 1)\n",
        "plt.plot(Epochs, tr_loss, 'r', label= 'Training loss')\n",
        "plt.plot(Epochs, val_loss, 'g', label= 'Validation loss')\n",
        "plt.scatter(index_loss + 1, val_lowest, s= 150, c= 'blue', label= loss_label)\n",
        "plt.title('Training and Validation Loss')\n",
        "plt.xlabel('Epochs')\n",
        "plt.ylabel('Loss')\n",
        "plt.legend()\n",
        "\n",
        "plt.subplot(1, 2, 2)\n",
        "plt.plot(Epochs, tr_acc, 'r', label= 'Training Accuracy')\n",
        "plt.plot(Epochs, val_acc, 'g', label= 'Validation Accuracy')\n",
        "plt.scatter(index_acc + 1 , acc_highest, s= 150, c= 'blue', label= acc_label)\n",
        "plt.title('Training and Validation Accuracy')\n",
        "plt.xlabel('Epochs')\n",
        "plt.ylabel('Accuracy')\n",
        "plt.legend()\n",
        "\n",
        "plt.tight_layout\n",
        "plt.show()"
      ],
      "metadata": {
        "execution": {
          "iopub.status.busy": "2024-12-14T14:34:21.753039Z",
          "iopub.execute_input": "2024-12-14T14:34:21.753756Z",
          "iopub.status.idle": "2024-12-14T14:34:22.17424Z",
          "shell.execute_reply.started": "2024-12-14T14:34:21.753724Z",
          "shell.execute_reply": "2024-12-14T14:34:22.17346Z"
        },
        "trusted": true,
        "id": "4lf7TR3kj9hi"
      },
      "outputs": [],
      "execution_count": null
    },
    {
      "cell_type": "markdown",
      "source": [
        "**Evaluate model**"
      ],
      "metadata": {
        "id": "X7Gkfik_j9hi"
      }
    },
    {
      "cell_type": "code",
      "source": [
        "\n",
        "ts_length = len(test_df)\n",
        "test_batch_size = max(sorted([ts_length // n for n in range(1, ts_length + 1) if ts_length%n == 0 and ts_length/n <= 80]))\n",
        "test_steps = ts_length // test_batch_size\n",
        "\n",
        "train_score = model.evaluate(train_gen, steps= test_steps, verbose= 1)\n",
        "valid_score = model.evaluate(valid_gen, steps= test_steps, verbose= 1)\n",
        "test_score = model.evaluate(test_gen, steps= test_steps, verbose= 1)\n",
        "\n",
        "print(\"Train Loss: \", train_score[0])\n",
        "print(\"Train Accuracy: \", train_score[1])\n",
        "print('-' * 20)\n",
        "print(\"Valid Loss: \", valid_score[0])\n",
        "print(\"Valid Accuracy: \", valid_score[1])\n",
        "print('-' * 20)\n",
        "print(\"Test Loss: \", test_score[0])\n",
        "print(\"Test Accuracy: \", test_score[1])"
      ],
      "metadata": {
        "execution": {
          "iopub.status.busy": "2024-12-14T14:34:48.717882Z",
          "iopub.execute_input": "2024-12-14T14:34:48.718494Z",
          "iopub.status.idle": "2024-12-14T14:35:36.736109Z",
          "shell.execute_reply.started": "2024-12-14T14:34:48.718462Z",
          "shell.execute_reply": "2024-12-14T14:35:36.735261Z"
        },
        "trusted": true,
        "id": "CS-h3QGuj9hj"
      },
      "outputs": [],
      "execution_count": null
    },
    {
      "cell_type": "markdown",
      "source": [
        "# Get Predictions"
      ],
      "metadata": {
        "id": "plfVIMgVj9hj"
      }
    },
    {
      "cell_type": "code",
      "source": [
        "preds = model.predict_generator(test_gen)\n",
        "y_pred = np.argmax(preds, axis=1)"
      ],
      "metadata": {
        "execution": {
          "iopub.status.busy": "2024-12-14T14:58:41.898022Z",
          "iopub.execute_input": "2024-12-14T14:58:41.898641Z",
          "iopub.status.idle": "2024-12-14T14:58:54.964253Z",
          "shell.execute_reply.started": "2024-12-14T14:58:41.898609Z",
          "shell.execute_reply": "2024-12-14T14:58:54.963471Z"
        },
        "trusted": true,
        "id": "0Jqwrdt6j9hj"
      },
      "outputs": [],
      "execution_count": null
    },
    {
      "cell_type": "markdown",
      "source": [
        "**Confusion Matrics and Classification Report**"
      ],
      "metadata": {
        "id": "6pswwYYwj9hj"
      }
    },
    {
      "cell_type": "code",
      "source": [
        "import itertools\n",
        "g_dict = test_gen.class_indices\n",
        "classes = list(g_dict.keys())\n",
        "\n",
        "# Confusion matrix\n",
        "cm = confusion_matrix(test_gen.classes, y_pred)\n",
        "\n",
        "plt.figure(figsize= (10, 10))\n",
        "plt.imshow(cm, interpolation= 'nearest', cmap= plt.cm.Blues)\n",
        "plt.title('Confusion Matrix')\n",
        "plt.colorbar()\n",
        "\n",
        "tick_marks = np.arange(len(classes))\n",
        "plt.xticks(tick_marks, classes, rotation= 45)\n",
        "plt.yticks(tick_marks, classes)\n",
        "\n",
        "\n",
        "thresh = cm.max() / 2.\n",
        "for i, j in itertools.product(range(cm.shape[0]), range(cm.shape[1])):\n",
        "    plt.text(j, i, cm[i, j], horizontalalignment= 'center', color= 'white' if cm[i, j] > thresh else 'black')\n",
        "\n",
        "plt.tight_layout()\n",
        "plt.ylabel('True Label')\n",
        "plt.xlabel('Predicted Label')\n",
        "\n",
        "plt.show()"
      ],
      "metadata": {
        "execution": {
          "iopub.status.busy": "2024-12-14T14:59:52.386906Z",
          "iopub.execute_input": "2024-12-14T14:59:52.387697Z",
          "iopub.status.idle": "2024-12-14T14:59:52.659202Z",
          "shell.execute_reply.started": "2024-12-14T14:59:52.387665Z",
          "shell.execute_reply": "2024-12-14T14:59:52.658344Z"
        },
        "trusted": true,
        "id": "7PynhhtCj9hj"
      },
      "outputs": [],
      "execution_count": null
    },
    {
      "cell_type": "code",
      "source": [
        "# Classification report\n",
        "print(classification_report(test_gen.classes, y_pred, target_names= classes))"
      ],
      "metadata": {
        "execution": {
          "iopub.status.busy": "2024-12-14T15:00:29.152501Z",
          "iopub.execute_input": "2024-12-14T15:00:29.153192Z",
          "iopub.status.idle": "2024-12-14T15:00:29.166348Z",
          "shell.execute_reply.started": "2024-12-14T15:00:29.153162Z",
          "shell.execute_reply": "2024-12-14T15:00:29.165498Z"
        },
        "trusted": true,
        "id": "DDgvJbUlj9hk"
      },
      "outputs": [],
      "execution_count": null
    },
    {
      "cell_type": "markdown",
      "source": [
        "**Save model**"
      ],
      "metadata": {
        "id": "WRtjWj1Zj9hk"
      }
    },
    {
      "cell_type": "code",
      "source": [
        "#Save the model\n",
        "model.save('Model.h5')"
      ],
      "metadata": {
        "execution": {
          "iopub.status.busy": "2024-12-14T15:00:45.605587Z",
          "iopub.execute_input": "2024-12-14T15:00:45.606219Z",
          "iopub.status.idle": "2024-12-14T15:00:46.2878Z",
          "shell.execute_reply.started": "2024-12-14T15:00:45.606189Z",
          "shell.execute_reply": "2024-12-14T15:00:46.286813Z"
        },
        "trusted": true,
        "id": "eVdB3oUmj9hk"
      },
      "outputs": [],
      "execution_count": null
    },
    {
      "cell_type": "markdown",
      "source": [
        "**Prediction using loaded_model**"
      ],
      "metadata": {
        "id": "mQOyt-NLj9hk"
      }
    },
    {
      "cell_type": "code",
      "source": [
        "loaded_model = tf.keras.models.load_model('/kaggle/working/Model.h5', compile=False)\n",
        "loaded_model.compile(Nadam(learning_rate= 0.001), loss= 'categorical_crossentropy', metrics= ['accuracy'])"
      ],
      "metadata": {
        "execution": {
          "iopub.status.busy": "2024-12-14T15:01:00.808537Z",
          "iopub.execute_input": "2024-12-14T15:01:00.808865Z",
          "iopub.status.idle": "2024-12-14T15:01:01.207935Z",
          "shell.execute_reply.started": "2024-12-14T15:01:00.808841Z",
          "shell.execute_reply": "2024-12-14T15:01:01.206963Z"
        },
        "trusted": true,
        "id": "ngWJpMw4j9hk"
      },
      "outputs": [],
      "execution_count": null
    },
    {
      "cell_type": "code",
      "source": [
        "image_path = '/kaggle/input/lung-and-colon-cancer-histopathological-images/lung_colon_image_set/lung_image_sets/lung_aca/lungaca1001.jpeg'\n",
        "image = Image.open(image_path)\n",
        "\n",
        "# Preprocess the image\n",
        "img = image.resize((224, 224))\n",
        "img_array = tf.keras.preprocessing.image.img_to_array(img)\n",
        "img_array = tf.expand_dims(img_array, 0)\n",
        "\n",
        "# Make predictions\n",
        "predictions = loaded_model.predict(img_array)\n",
        "class_labels = classes\n",
        "score = tf.nn.softmax(predictions[0])\n",
        "print(f\"{class_labels[tf.argmax(score)]}\")"
      ],
      "metadata": {
        "execution": {
          "iopub.status.busy": "2024-12-14T15:01:04.233036Z",
          "iopub.execute_input": "2024-12-14T15:01:04.233829Z",
          "iopub.status.idle": "2024-12-14T15:01:04.437019Z",
          "shell.execute_reply.started": "2024-12-14T15:01:04.2338Z",
          "shell.execute_reply": "2024-12-14T15:01:04.436258Z"
        },
        "trusted": true,
        "id": "LcGRYnIFj9hl"
      },
      "outputs": [],
      "execution_count": null
    },
    {
      "cell_type": "code",
      "source": [
        "predictions"
      ],
      "metadata": {
        "execution": {
          "iopub.status.busy": "2024-12-14T15:01:09.210121Z",
          "iopub.execute_input": "2024-12-14T15:01:09.210944Z",
          "iopub.status.idle": "2024-12-14T15:01:09.216489Z",
          "shell.execute_reply.started": "2024-12-14T15:01:09.210914Z",
          "shell.execute_reply": "2024-12-14T15:01:09.215624Z"
        },
        "trusted": true,
        "id": "7mi-Q1yxj9hl"
      },
      "outputs": [],
      "execution_count": null
    }
  ]
}