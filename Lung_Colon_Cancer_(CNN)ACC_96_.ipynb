{
  "cells": [
    {
      "cell_type": "code",
      "execution_count": null,
      "metadata": {
        "id": "L9149hiCj9hS"
      },
      "outputs": [],
      "source": [
        "\n",
        "import kagglehub\n",
        "andrewmvd_lung_and_colon_cancer_histopathological_images_path = kagglehub.dataset_download('andrewmvd/lung-and-colon-cancer-histopathological-images')\n",
        "\n",
        "print('Data source import complete.')\n"
      ]
    },
    {
      "cell_type": "markdown",
      "metadata": {
        "id": "rdEMsoYPj9hY"
      },
      "source": [
        "# About Data"
      ]
    },
    {
      "cell_type": "markdown",
      "metadata": {
        "id": "Q6g6Pfwjj9ha"
      },
      "source": [
        "This dataset contains 25,000 histopathological images with 5 classes. All images are 768 x 768 pixels in size and are in jpeg file format.\n",
        "The images were generated from an original sample of HIPAA compliant and validated sources, consisting of 750 total images of lung tissue (250 benign lung tissue, 250 lung adenocarcinomas, and 250 lung squamous cell carcinomas) and 500 total images of colon tissue (250 benign colon tissue and 250 colon adenocarcinomas) and augmented to 25,000 using the Augmentor package.\n",
        "There are five classes in the dataset, each with 5,000 images, being:\n",
        "\n",
        "Lung benign tissue\n",
        "Lung adenocarcinoma\n",
        "Lung squamous cell carcinoma\n",
        "Colon adenocarcinoma\n",
        "Colon benign tissue"
      ]
    },
    {
      "cell_type": "code",
      "execution_count": null,
      "metadata": {
        "execution": {
          "iopub.execute_input": "2024-12-14T11:58:17.641374Z",
          "iopub.status.busy": "2024-12-14T11:58:17.640967Z",
          "iopub.status.idle": "2024-12-14T11:58:17.648601Z",
          "shell.execute_reply": "2024-12-14T11:58:17.647661Z",
          "shell.execute_reply.started": "2024-12-14T11:58:17.641344Z"
        },
        "id": "rIqB1xilj9hb",
        "trusted": true
      },
      "outputs": [],
      "source": [
        "\n",
        "import os\n",
        "import re\n",
        "import requests\n",
        "from PIL import Image\n",
        "import pandas as pd\n",
        "import numpy as np\n",
        "\n",
        "#libraries for data visualization\n",
        "import seaborn as sns\n",
        "import matplotlib.pyplot as plt\n",
        "import plotly.express as px\n",
        "import plotly.graph_objects as go\n",
        "from plotly.subplots import make_subplots\n",
        "\n",
        "from sklearn.model_selection import train_test_split\n",
        "from sklearn.metrics import classification_report,confusion_matrix\n",
        "import tensorflow as tf\n",
        "from tensorflow.keras import layers\n",
        "from tensorflow.keras.layers import Conv2D, BatchNormalization, MaxPool2D, Dropout, Flatten, Dense\n",
        "from tensorflow.keras.callbacks import EarlyStopping, ModelCheckpoint, ReduceLROnPlateau\n",
        "from tensorflow.keras.preprocessing import image\n",
        "from tensorflow import keras\n",
        "from tensorflow.keras.applications import ResNet50\n",
        "from tensorflow.keras.models import Model\n",
        "from tensorflow.keras.preprocessing.image import ImageDataGenerator\n",
        "from tensorflow.keras.callbacks import EarlyStopping, ReduceLROnPlateau\n",
        "from tensorflow.keras.models import Sequential\n",
        "from tensorflow.keras.optimizers import Adam, Adamax\n",
        "from tensorflow.keras import regularizers\n",
        "import warnings\n",
        "warnings.filterwarnings('ignore')"
      ]
    },
    {
      "cell_type": "markdown",
      "metadata": {
        "id": "7KAZW98tj9hc"
      },
      "source": [
        "# Data Preprocessing"
      ]
    },
    {
      "cell_type": "markdown",
      "metadata": {
        "id": "2M9w2fCsj9hc"
      },
      "source": [
        "**Read data and store it in dataframe**"
      ]
    },
    {
      "cell_type": "code",
      "execution_count": null,
      "metadata": {
        "execution": {
          "iopub.execute_input": "2024-12-14T11:58:17.651065Z",
          "iopub.status.busy": "2024-12-14T11:58:17.650831Z",
          "iopub.status.idle": "2024-12-14T11:58:17.719918Z",
          "shell.execute_reply": "2024-12-14T11:58:17.719321Z",
          "shell.execute_reply.started": "2024-12-14T11:58:17.651046Z"
        },
        "id": "Ctn2gZJIj9hd",
        "trusted": true
      },
      "outputs": [],
      "source": [
        "\n",
        "data_dir = '/kaggle/input/lung-and-colon-cancer-histopathological-images/lung_colon_image_set'\n",
        "filepaths = []\n",
        "labels = []\n",
        "\n",
        "folds = os.listdir(data_dir)\n",
        "for fold in folds:\n",
        "    foldpath = os.path.join(data_dir, fold)\n",
        "    flist = os.listdir(foldpath)\n",
        "\n",
        "    for f in flist:\n",
        "        f_path = os.path.join(foldpath, f)\n",
        "        filelist = os.listdir(f_path)\n",
        "\n",
        "        for file in filelist:\n",
        "            fpath = os.path.join(f_path, file)\n",
        "            filepaths.append(fpath)\n",
        "\n",
        "            if f == 'colon_aca':\n",
        "                labels.append('Colon Adenocarcinoma')\n",
        "\n",
        "            elif f == 'colon_n':\n",
        "                labels.append('Colon Benign Tissue')\n",
        "\n",
        "            elif f == 'lung_aca':\n",
        "                labels.append('Lung Adenocarcinoma')\n",
        "\n",
        "            elif f == 'lung_n':\n",
        "                labels.append('Lung Benign Tissue')\n",
        "\n",
        "            elif f == 'lung_scc':\n",
        "                labels.append('Lung Squamous Cell Carcinoma')\n",
        "\n",
        "\n",
        "Fseries = pd.Series(filepaths, name= 'filepaths')\n",
        "Lseries = pd.Series(labels, name='labels')\n",
        "df = pd.concat([Fseries, Lseries], axis= 1)"
      ]
    },
    {
      "cell_type": "markdown",
      "metadata": {
        "id": "_F6OC594j9he"
      },
      "source": [
        "**Split data into train, valid, and test**"
      ]
    },
    {
      "cell_type": "code",
      "execution_count": null,
      "metadata": {
        "execution": {
          "iopub.execute_input": "2024-12-14T11:58:17.722027Z",
          "iopub.status.busy": "2024-12-14T11:58:17.721441Z",
          "iopub.status.idle": "2024-12-14T11:58:17.749641Z",
          "shell.execute_reply": "2024-12-14T11:58:17.749013Z",
          "shell.execute_reply.started": "2024-12-14T11:58:17.721998Z"
        },
        "id": "s_x8luqVj9hf",
        "trusted": true
      },
      "outputs": [],
      "source": [
        "\n",
        "strat = df['labels']\n",
        "train_df, dummy_df = train_test_split(df,  train_size= 0.8, shuffle= True, random_state= 123, stratify= strat)\n",
        "\n",
        "\n",
        "strat = dummy_df['labels']\n",
        "valid_df, test_df = train_test_split(dummy_df,  train_size= 0.5, shuffle= True, random_state= 123, stratify= strat)"
      ]
    },
    {
      "cell_type": "code",
      "execution_count": null,
      "metadata": {
        "execution": {
          "iopub.execute_input": "2024-12-14T11:58:17.750604Z",
          "iopub.status.busy": "2024-12-14T11:58:17.750402Z",
          "iopub.status.idle": "2024-12-14T11:58:55.139087Z",
          "shell.execute_reply": "2024-12-14T11:58:55.138088Z",
          "shell.execute_reply.started": "2024-12-14T11:58:17.750588Z"
        },
        "id": "eUbjti6Uj9hg",
        "trusted": true
      },
      "outputs": [],
      "source": [
        "\n",
        "batch_size =64\n",
        "img_size = (224, 224)\n",
        "channels = 3\n",
        "img_shape = (img_size[0], img_size[1], channels)\n",
        "\n",
        "tr_gen = ImageDataGenerator()\n",
        "ts_gen = ImageDataGenerator()\n",
        "val_gen= ImageDataGenerator()\n",
        "\n",
        "train_gen = tr_gen.flow_from_dataframe( train_df, x_col= 'filepaths', y_col= 'labels', target_size= img_size, class_mode= 'categorical',\n",
        "                                    color_mode= 'rgb', shuffle= True, batch_size= batch_size)\n",
        "\n",
        "valid_gen = val_gen.flow_from_dataframe( valid_df, x_col= 'filepaths', y_col= 'labels', target_size= img_size, class_mode= 'categorical',\n",
        "                                    color_mode= 'rgb', shuffle= True, batch_size= batch_size)\n",
        "\n",
        "test_gen = ts_gen.flow_from_dataframe( test_df, x_col= 'filepaths', y_col= 'labels', target_size= img_size, class_mode= 'categorical',\n",
        "                                    color_mode= 'rgb', shuffle= False, batch_size= batch_size)"
      ]
    },
    {
      "cell_type": "markdown",
      "metadata": {
        "id": "1JSAOgA1j9hg"
      },
      "source": [
        "# Show sample from train data"
      ]
    },
    {
      "cell_type": "code",
      "execution_count": null,
      "metadata": {
        "execution": {
          "iopub.execute_input": "2024-12-14T11:58:55.142034Z",
          "iopub.status.busy": "2024-12-14T11:58:55.141447Z",
          "iopub.status.idle": "2024-12-14T11:58:58.461137Z",
          "shell.execute_reply": "2024-12-14T11:58:58.459823Z",
          "shell.execute_reply.started": "2024-12-14T11:58:55.141992Z"
        },
        "id": "jx5XZ4x3j9hh",
        "trusted": true
      },
      "outputs": [],
      "source": [
        "g_dict = train_gen.class_indices      \n",
        "classes = list(g_dict.keys())       \n",
        "images, labels = next(train_gen)      \n",
        "\n",
        "plt.figure(figsize= (20, 20))\n",
        "\n",
        "for i in range(16):\n",
        "    plt.subplot(4, 4, i + 1)\n",
        "    image = images[i] / 255       \n",
        "    plt.imshow(image)\n",
        "    index = np.argmax(labels[i])  \n",
        "    class_name = classes[index]   \n",
        "    plt.title(class_name, color= 'blue', fontsize= 12)\n",
        "    plt.axis('off')\n",
        "plt.show()"
      ]
    },
    {
      "cell_type": "markdown",
      "metadata": {
        "id": "UlEhOToWj9hh"
      },
      "source": [
        "# Model Structure"
      ]
    },
    {
      "cell_type": "markdown",
      "metadata": {
        "id": "rDW_a2OVj9hh"
      },
      "source": [
        "**Generic Model Creation**"
      ]
    },
    {
      "cell_type": "code",
      "execution_count": null,
      "metadata": {
        "execution": {
          "iopub.execute_input": "2024-12-14T13:25:50.076862Z",
          "iopub.status.busy": "2024-12-14T13:25:50.076144Z",
          "iopub.status.idle": "2024-12-14T13:25:51.736964Z",
          "shell.execute_reply": "2024-12-14T13:25:51.735975Z",
          "shell.execute_reply.started": "2024-12-14T13:25:50.07683Z"
        },
        "id": "JShrVI9yj9hh",
        "trusted": true
      },
      "outputs": [],
      "source": [
        "from tensorflow.keras.layers import Conv2D, MaxPooling2D, Flatten, Dense, Activation, Dropout, BatchNormalization\n",
        "from tensorflow.keras.optimizers import Nadam\n",
        "\n",
        "# Create Model Structure\n",
        "img_size = (224, 224)\n",
        "channels = 3\n",
        "img_shape = (img_size[0], img_size[1], channels)\n",
        "class_count = len(list(train_gen.class_indices.keys()))\n",
        "\n",
        "model = Sequential([\n",
        "    Conv2D(filters=64, kernel_size=(3,3), padding=\"same\", activation=\"relu\", input_shape= img_shape),\n",
        "    Conv2D(filters=64, kernel_size=(3,3), padding=\"same\", activation=\"relu\"),\n",
        "    MaxPooling2D((2, 2)),\n",
        "\n",
        "    Conv2D(filters=128, kernel_size=(3,3), padding=\"same\", activation=\"relu\"),\n",
        "    Conv2D(filters=128, kernel_size=(3,3), padding=\"same\", activation=\"relu\"),\n",
        "    MaxPooling2D((2, 2)),\n",
        "\n",
        "    Conv2D(filters=256, kernel_size=(3,3), padding=\"same\", activation=\"relu\"),\n",
        "    Conv2D(filters=256, kernel_size=(3,3), padding=\"same\", activation=\"relu\"),\n",
        "    Conv2D(filters=256, kernel_size=(3,3), padding=\"same\", activation=\"relu\"),\n",
        "    MaxPooling2D((2, 2)),\n",
        "\n",
        "    Conv2D(filters=512, kernel_size=(3,3), padding=\"same\", activation=\"relu\"),\n",
        "    Conv2D(filters=512, kernel_size=(3,3), padding=\"same\", activation=\"relu\"),\n",
        "    Conv2D(filters=512, kernel_size=(3,3), padding=\"same\", activation=\"relu\"),\n",
        "    MaxPooling2D((2, 2)),\n",
        "\n",
        "    Conv2D(filters=512, kernel_size=(3,3), padding=\"same\", activation=\"relu\"),\n",
        "    Conv2D(filters=512, kernel_size=(3,3), padding=\"same\", activation=\"relu\"),\n",
        "    Conv2D(filters=512, kernel_size=(3,3), padding=\"same\", activation=\"relu\"),\n",
        "    MaxPooling2D((2, 2)),\n",
        "\n",
        "    Flatten(),\n",
        "    Dense(256,activation = \"relu\"),\n",
        "    Dense(64,activation = \"relu\"),\n",
        "    Dense(class_count, activation = \"softmax\")\n",
        "])\n",
        "\n",
        "model.compile(optimizer=Nadam(learning_rate=0.0001), loss='binary_crossentropy', metrics=['accuracy'])\n",
        "base_model = ResNet50(weights='imagenet', include_top=False, input_shape=(224, 224, 3))\n",
        "\n",
        "x = Flatten()(base_model.output)\n",
        "x = Dense(128, activation='relu')(x)\n",
        "output = Dense(1, activation='sigmoid')(x)\n",
        "\n",
        "resnet_model = Model(inputs=base_model.input, outputs=output)\n",
        "\n",
        "# Freeze base_model layers\n",
        "for layer in base_model.layers:\n",
        "    layer.trainable = False"
      ]
    },
    {
      "cell_type": "code",
      "execution_count": null,
      "metadata": {
        "execution": {
          "iopub.execute_input": "2024-12-14T13:26:01.415405Z",
          "iopub.status.busy": "2024-12-14T13:26:01.414582Z",
          "iopub.status.idle": "2024-12-14T13:26:01.46277Z",
          "shell.execute_reply": "2024-12-14T13:26:01.461975Z",
          "shell.execute_reply.started": "2024-12-14T13:26:01.415374Z"
        },
        "id": "Lqawa1bAj9hi",
        "trusted": true
      },
      "outputs": [],
      "source": [
        "model.summary()"
      ]
    },
    {
      "cell_type": "code",
      "execution_count": null,
      "metadata": {
        "execution": {
          "iopub.execute_input": "2024-12-14T13:26:07.387585Z",
          "iopub.status.busy": "2024-12-14T13:26:07.387222Z",
          "iopub.status.idle": "2024-12-14T14:29:03.593515Z",
          "shell.execute_reply": "2024-12-14T14:29:03.592704Z",
          "shell.execute_reply.started": "2024-12-14T13:26:07.38756Z"
        },
        "id": "0-ypSPQ6j9hi",
        "trusted": true
      },
      "outputs": [],
      "source": [
        "epochs = 12   \n",
        "\n",
        "history = model.fit(x= train_gen, epochs= epochs, verbose= 1, validation_data= test_gen,\n",
        "                    validation_steps= None, shuffle= False)"
      ]
    },
    {
      "cell_type": "markdown",
      "metadata": {
        "id": "LRbPWFIaj9hi"
      },
      "source": [
        "**Display model performance**"
      ]
    },
    {
      "cell_type": "code",
      "execution_count": null,
      "metadata": {
        "execution": {
          "iopub.execute_input": "2024-12-14T14:34:21.753756Z",
          "iopub.status.busy": "2024-12-14T14:34:21.753039Z",
          "iopub.status.idle": "2024-12-14T14:34:22.17424Z",
          "shell.execute_reply": "2024-12-14T14:34:22.17346Z",
          "shell.execute_reply.started": "2024-12-14T14:34:21.753724Z"
        },
        "id": "4lf7TR3kj9hi",
        "trusted": true
      },
      "outputs": [],
      "source": [
        "\n",
        "tr_acc = history.history['accuracy']\n",
        "tr_loss = history.history['loss']\n",
        "val_acc = history.history['val_accuracy']\n",
        "val_loss = history.history['val_loss']\n",
        "index_loss = np.argmin(val_loss)\n",
        "val_lowest = val_loss[index_loss]\n",
        "index_acc = np.argmax(val_acc)\n",
        "acc_highest = val_acc[index_acc]\n",
        "Epochs = [i+1 for i in range(len(tr_acc))]\n",
        "loss_label = f'best epoch= {str(index_loss + 1)}'\n",
        "acc_label = f'best epoch= {str(index_acc + 1)}'\n",
        "\n",
        "\n",
        "plt.figure(figsize= (20, 8))\n",
        "plt.style.use('fivethirtyeight')\n",
        "\n",
        "plt.subplot(1, 2, 1)\n",
        "plt.plot(Epochs, tr_loss, 'r', label= 'Training loss')\n",
        "plt.plot(Epochs, val_loss, 'g', label= 'Validation loss')\n",
        "plt.scatter(index_loss + 1, val_lowest, s= 150, c= 'blue', label= loss_label)\n",
        "plt.title('Training and Validation Loss')\n",
        "plt.xlabel('Epochs')\n",
        "plt.ylabel('Loss')\n",
        "plt.legend()\n",
        "\n",
        "plt.subplot(1, 2, 2)\n",
        "plt.plot(Epochs, tr_acc, 'r', label= 'Training Accuracy')\n",
        "plt.plot(Epochs, val_acc, 'g', label= 'Validation Accuracy')\n",
        "plt.scatter(index_acc + 1 , acc_highest, s= 150, c= 'blue', label= acc_label)\n",
        "plt.title('Training and Validation Accuracy')\n",
        "plt.xlabel('Epochs')\n",
        "plt.ylabel('Accuracy')\n",
        "plt.legend()\n",
        "\n",
        "plt.tight_layout\n",
        "plt.show()"
      ]
    },
    {
      "cell_type": "markdown",
      "metadata": {
        "id": "X7Gkfik_j9hi"
      },
      "source": [
        "**Evaluate model**"
      ]
    },
    {
      "cell_type": "code",
      "execution_count": null,
      "metadata": {
        "execution": {
          "iopub.execute_input": "2024-12-14T14:34:48.718494Z",
          "iopub.status.busy": "2024-12-14T14:34:48.717882Z",
          "iopub.status.idle": "2024-12-14T14:35:36.736109Z",
          "shell.execute_reply": "2024-12-14T14:35:36.735261Z",
          "shell.execute_reply.started": "2024-12-14T14:34:48.718462Z"
        },
        "id": "CS-h3QGuj9hj",
        "trusted": true
      },
      "outputs": [],
      "source": [
        "\n",
        "ts_length = len(test_df)\n",
        "test_batch_size = max(sorted([ts_length // n for n in range(1, ts_length + 1) if ts_length%n == 0 and ts_length/n <= 80]))\n",
        "test_steps = ts_length // test_batch_size\n",
        "\n",
        "train_score = model.evaluate(train_gen, steps= test_steps, verbose= 1)\n",
        "valid_score = model.evaluate(valid_gen, steps= test_steps, verbose= 1)\n",
        "test_score = model.evaluate(test_gen, steps= test_steps, verbose= 1)\n",
        "\n",
        "print(\"Train Loss: \", train_score[0])\n",
        "print(\"Train Accuracy: \", train_score[1])\n",
        "print('-' * 20)\n",
        "print(\"Valid Loss: \", valid_score[0])\n",
        "print(\"Valid Accuracy: \", valid_score[1])\n",
        "print('-' * 20)\n",
        "print(\"Test Loss: \", test_score[0])\n",
        "print(\"Test Accuracy: \", test_score[1])"
      ]
    },
    {
      "cell_type": "markdown",
      "metadata": {
        "id": "plfVIMgVj9hj"
      },
      "source": [
        "# Get Predictions"
      ]
    },
    {
      "cell_type": "code",
      "execution_count": null,
      "metadata": {
        "execution": {
          "iopub.execute_input": "2024-12-14T14:58:41.898641Z",
          "iopub.status.busy": "2024-12-14T14:58:41.898022Z",
          "iopub.status.idle": "2024-12-14T14:58:54.964253Z",
          "shell.execute_reply": "2024-12-14T14:58:54.963471Z",
          "shell.execute_reply.started": "2024-12-14T14:58:41.898609Z"
        },
        "id": "0Jqwrdt6j9hj",
        "trusted": true
      },
      "outputs": [],
      "source": [
        "preds = model.predict_generator(test_gen)\n",
        "y_pred = np.argmax(preds, axis=1)"
      ]
    },
    {
      "cell_type": "markdown",
      "metadata": {
        "id": "6pswwYYwj9hj"
      },
      "source": [
        "**Confusion Matrics and Classification Report**"
      ]
    },
    {
      "cell_type": "code",
      "execution_count": null,
      "metadata": {
        "execution": {
          "iopub.execute_input": "2024-12-14T14:59:52.387697Z",
          "iopub.status.busy": "2024-12-14T14:59:52.386906Z",
          "iopub.status.idle": "2024-12-14T14:59:52.659202Z",
          "shell.execute_reply": "2024-12-14T14:59:52.658344Z",
          "shell.execute_reply.started": "2024-12-14T14:59:52.387665Z"
        },
        "id": "7PynhhtCj9hj",
        "trusted": true
      },
      "outputs": [],
      "source": [
        "import itertools\n",
        "g_dict = test_gen.class_indices\n",
        "classes = list(g_dict.keys())\n",
        "\n",
        "# Confusion matrix\n",
        "cm = confusion_matrix(test_gen.classes, y_pred)\n",
        "\n",
        "plt.figure(figsize= (10, 10))\n",
        "plt.imshow(cm, interpolation= 'nearest', cmap= plt.cm.Blues)\n",
        "plt.title('Confusion Matrix')\n",
        "plt.colorbar()\n",
        "\n",
        "tick_marks = np.arange(len(classes))\n",
        "plt.xticks(tick_marks, classes, rotation= 45)\n",
        "plt.yticks(tick_marks, classes)\n",
        "\n",
        "\n",
        "thresh = cm.max() / 2.\n",
        "for i, j in itertools.product(range(cm.shape[0]), range(cm.shape[1])):\n",
        "    plt.text(j, i, cm[i, j], horizontalalignment= 'center', color= 'white' if cm[i, j] > thresh else 'black')\n",
        "\n",
        "plt.tight_layout()\n",
        "plt.ylabel('True Label')\n",
        "plt.xlabel('Predicted Label')\n",
        "\n",
        "plt.show()"
      ]
    },
    {
      "cell_type": "code",
      "execution_count": null,
      "metadata": {
        "execution": {
          "iopub.execute_input": "2024-12-14T15:00:29.153192Z",
          "iopub.status.busy": "2024-12-14T15:00:29.152501Z",
          "iopub.status.idle": "2024-12-14T15:00:29.166348Z",
          "shell.execute_reply": "2024-12-14T15:00:29.165498Z",
          "shell.execute_reply.started": "2024-12-14T15:00:29.153162Z"
        },
        "id": "DDgvJbUlj9hk",
        "trusted": true
      },
      "outputs": [],
      "source": [
        "\n",
        "print(classification_report(test_gen.classes, y_pred, target_names= classes))"
      ]
    },
    {
      "cell_type": "markdown",
      "metadata": {
        "id": "WRtjWj1Zj9hk"
      },
      "source": [
        "**Save model**"
      ]
    },
    {
      "cell_type": "code",
      "execution_count": null,
      "metadata": {
        "execution": {
          "iopub.execute_input": "2024-12-14T15:00:45.606219Z",
          "iopub.status.busy": "2024-12-14T15:00:45.605587Z",
          "iopub.status.idle": "2024-12-14T15:00:46.2878Z",
          "shell.execute_reply": "2024-12-14T15:00:46.286813Z",
          "shell.execute_reply.started": "2024-12-14T15:00:45.606189Z"
        },
        "id": "eVdB3oUmj9hk",
        "trusted": true
      },
      "outputs": [],
      "source": [
        "\n",
        "model.save('Model.h5')"
      ]
    },
    {
      "cell_type": "markdown",
      "metadata": {
        "id": "mQOyt-NLj9hk"
      },
      "source": [
        "**Prediction using loaded_model**"
      ]
    },
    {
      "cell_type": "code",
      "execution_count": null,
      "metadata": {
        "execution": {
          "iopub.execute_input": "2024-12-14T15:01:00.808865Z",
          "iopub.status.busy": "2024-12-14T15:01:00.808537Z",
          "iopub.status.idle": "2024-12-14T15:01:01.207935Z",
          "shell.execute_reply": "2024-12-14T15:01:01.206963Z",
          "shell.execute_reply.started": "2024-12-14T15:01:00.808841Z"
        },
        "id": "ngWJpMw4j9hk",
        "trusted": true
      },
      "outputs": [],
      "source": [
        "loaded_model = tf.keras.models.load_model('/kaggle/working/Model.h5', compile=False)\n",
        "loaded_model.compile(Nadam(learning_rate= 0.001), loss= 'categorical_crossentropy', metrics= ['accuracy'])"
      ]
    },
    {
      "cell_type": "code",
      "execution_count": null,
      "metadata": {
        "execution": {
          "iopub.execute_input": "2024-12-14T15:01:04.233829Z",
          "iopub.status.busy": "2024-12-14T15:01:04.233036Z",
          "iopub.status.idle": "2024-12-14T15:01:04.437019Z",
          "shell.execute_reply": "2024-12-14T15:01:04.436258Z",
          "shell.execute_reply.started": "2024-12-14T15:01:04.2338Z"
        },
        "id": "LcGRYnIFj9hl",
        "trusted": true
      },
      "outputs": [],
      "source": [
        "image_path = '/kaggle/input/lung-and-colon-cancer-histopathological-images/lung_colon_image_set/lung_image_sets/lung_aca/lungaca1001.jpeg'\n",
        "image = Image.open(image_path)\n",
        "\n",
        "\n",
        "img = image.resize((224, 224))\n",
        "img_array = tf.keras.preprocessing.image.img_to_array(img)\n",
        "img_array = tf.expand_dims(img_array, 0)\n",
        "\n",
        "\n",
        "predictions = loaded_model.predict(img_array)\n",
        "class_labels = classes\n",
        "score = tf.nn.softmax(predictions[0])\n",
        "print(f\"{class_labels[tf.argmax(score)]}\")"
      ]
    },
    {
      "cell_type": "code",
      "execution_count": null,
      "metadata": {
        "execution": {
          "iopub.execute_input": "2024-12-14T15:01:09.210944Z",
          "iopub.status.busy": "2024-12-14T15:01:09.210121Z",
          "iopub.status.idle": "2024-12-14T15:01:09.216489Z",
          "shell.execute_reply": "2024-12-14T15:01:09.215624Z",
          "shell.execute_reply.started": "2024-12-14T15:01:09.210914Z"
        },
        "id": "7mi-Q1yxj9hl",
        "trusted": true
      },
      "outputs": [],
      "source": [
        "predictions"
      ]
    }
  ],
  "metadata": {
    "colab": {
      "include_colab_link": true,
      "provenance": []
    },
    "kaggle": {
      "accelerator": "nvidiaTeslaT4",
      "dataSources": [
        {
          "datasetId": 601280,
          "sourceId": 1079953,
          "sourceType": "datasetVersion"
        }
      ],
      "dockerImageVersionId": 30648,
      "isGpuEnabled": true,
      "isInternetEnabled": true,
      "language": "python",
      "sourceType": "notebook"
    },
    "kernelspec": {
      "display_name": "Python 3",
      "language": "python",
      "name": "python3"
    },
    "language_info": {
      "codemirror_mode": {
        "name": "ipython",
        "version": 3
      },
      "file_extension": ".py",
      "mimetype": "text/x-python",
      "name": "python",
      "nbconvert_exporter": "python",
      "pygments_lexer": "ipython3",
      "version": "3.10.13"
    }
  },
  "nbformat": 4,
  "nbformat_minor": 0
}
